{
  "cells": [
    {
      "cell_type": "code",
      "execution_count": 1,
      "metadata": {
        "id": "dHmsA7tGytwI"
      },
      "outputs": [
        {
          "name": "stderr",
          "output_type": "stream",
          "text": [
            "C:\\Users\\Chunde\\AppData\\Roaming\\Python\\Python39\\site-packages\\tqdm\\auto.py:22: TqdmWarning: IProgress not found. Please update jupyter and ipywidgets. See https://ipywidgets.readthedocs.io/en/stable/user_install.html\n",
            "  from .autonotebook import tqdm as notebook_tqdm\n"
          ]
        }
      ],
      "source": [
        "import gym\n",
        "import matplotlib.pyplot as plt\n",
        "import numpy as np\n",
        "import seaborn as sns\n",
        "import torch\n",
        "from torch import nn\n",
        "from torch import optim\n",
        "from torch.distributions.categorical import Categorical\n",
        "\n",
        "sns.set()"
      ]
    },
    {
      "cell_type": "code",
      "execution_count": 2,
      "metadata": {
        "id": "MR6Glrg0bXo6"
      },
      "outputs": [],
      "source": [
        "DEVICE = 'cpu'"
      ]
    },
    {
      "cell_type": "code",
      "execution_count": 3,
      "metadata": {
        "id": "99naEvVVzjpt"
      },
      "outputs": [],
      "source": [
        "# Policy and value model\n",
        "class ActorCriticNetwork(nn.Module):\n",
        "  def __init__(self, obs_space_size, action_space_size):\n",
        "    super().__init__()\n",
        "\n",
        "    self.shared_layers = nn.Sequential(\n",
        "        nn.Linear(obs_space_size, 64),\n",
        "        nn.ReLU(),\n",
        "        nn.Linear(64, 64),\n",
        "        nn.ReLU())\n",
        "    \n",
        "    self.policy_layers = nn.Sequential(\n",
        "        nn.Linear(64, 64),\n",
        "        nn.ReLU(),\n",
        "        nn.Linear(64, action_space_size))\n",
        "    \n",
        "    self.value_layers = nn.Sequential(\n",
        "        nn.Linear(64, 64),\n",
        "        nn.ReLU(),\n",
        "        nn.Linear(64, 1))\n",
        "    \n",
        "  def value(self, obs):\n",
        "    z = self.shared_layers(obs)\n",
        "    value = self.value_layers(z)\n",
        "    return value\n",
        "        \n",
        "  def policy(self, obs):\n",
        "    z = self.shared_layers(obs)\n",
        "    policy_logits = self.policy_layers(z)\n",
        "    return policy_logits\n",
        "\n",
        "  def forward(self, obs):\n",
        "    z = self.shared_layers(obs)\n",
        "    policy_logits = self.policy_layers(z)\n",
        "    value = self.value_layers(z)\n",
        "    return policy_logits, value"
      ]
    },
    {
      "cell_type": "code",
      "execution_count": 4,
      "metadata": {
        "id": "PSPZ4GPKzmlI"
      },
      "outputs": [],
      "source": [
        "class PPOTrainer():\n",
        "  def __init__(self,\n",
        "              actor_critic,\n",
        "              ppo_clip_val=0.2,\n",
        "              target_kl_div=0.01,\n",
        "              max_policy_train_iters=80,\n",
        "              value_train_iters=80,\n",
        "              policy_lr=3e-4,\n",
        "              value_lr=1e-2):\n",
        "    self.ac = actor_critic\n",
        "    self.ppo_clip_val = ppo_clip_val\n",
        "    self.target_kl_div = target_kl_div\n",
        "    self.max_policy_train_iters = max_policy_train_iters\n",
        "    self.value_train_iters = value_train_iters\n",
        "\n",
        "    policy_params = list(self.ac.shared_layers.parameters()) + \\\n",
        "        list(self.ac.policy_layers.parameters())\n",
        "    self.policy_optim = optim.Adam(policy_params, lr=policy_lr)\n",
        "\n",
        "    value_params = list(self.ac.shared_layers.parameters()) + \\\n",
        "        list(self.ac.value_layers.parameters())\n",
        "    self.value_optim = optim.Adam(value_params, lr=value_lr)\n",
        "\n",
        "  def train_policy(self, obs, acts, old_log_probs, gaes):\n",
        "    for _ in range(self.max_policy_train_iters):\n",
        "      self.policy_optim.zero_grad()\n",
        "\n",
        "      new_logits = self.ac.policy(obs)\n",
        "      new_logits = Categorical(logits=new_logits)\n",
        "      new_log_probs = new_logits.log_prob(acts)\n",
        "\n",
        "      policy_ratio = torch.exp(new_log_probs - old_log_probs)\n",
        "      clipped_ratio = policy_ratio.clamp(\n",
        "          1 - self.ppo_clip_val, 1 + self.ppo_clip_val)\n",
        "      \n",
        "      clipped_loss = clipped_ratio * gaes\n",
        "      full_loss = policy_ratio * gaes\n",
        "      policy_loss = -torch.min(full_loss, clipped_loss).mean()\n",
        "\n",
        "      policy_loss.backward()\n",
        "      self.policy_optim.step()\n",
        "\n",
        "      kl_div = (old_log_probs - new_log_probs).mean()\n",
        "      if kl_div >= self.target_kl_div:\n",
        "        break\n",
        "\n",
        "  def train_value(self, obs, returns):\n",
        "    for _ in range(self.value_train_iters):\n",
        "      self.value_optim.zero_grad()\n",
        "\n",
        "      values = self.ac.value(obs)\n",
        "      value_loss = (returns - values) ** 2\n",
        "      value_loss = value_loss.mean()\n",
        "\n",
        "      value_loss.backward()\n",
        "      self.value_optim.step()"
      ]
    },
    {
      "cell_type": "code",
      "execution_count": 5,
      "metadata": {
        "id": "E4kMg80sbgrj"
      },
      "outputs": [],
      "source": [
        "def discount_rewards(rewards, gamma=0.99):\n",
        "    \"\"\"\n",
        "    Return discounted rewards based on the given rewards and gamma param.\n",
        "    \"\"\"\n",
        "    new_rewards = [float(rewards[-1])]\n",
        "    for i in reversed(range(len(rewards)-1)):\n",
        "        new_rewards.append(float(rewards[i]) + gamma * new_rewards[-1])\n",
        "    return np.array(new_rewards[::-1])\n",
        "\n",
        "def calculate_gaes(rewards, values, gamma=0.99, decay=0.97):\n",
        "    \"\"\"\n",
        "    Return the General Advantage Estimates from the given rewards and values.\n",
        "    Paper: https://arxiv.org/pdf/1506.02438.pdf\n",
        "    \"\"\"\n",
        "    next_values = np.concatenate([values[1:], [0]])\n",
        "    deltas = [rew + gamma * next_val - val for rew, val, next_val in zip(rewards, values, next_values)]\n",
        "\n",
        "    gaes = [deltas[-1]]\n",
        "    for i in reversed(range(len(deltas)-1)):\n",
        "        gaes.append(deltas[i] + decay * gamma * gaes[-1])\n",
        "\n",
        "    return np.array(gaes[::-1])"
      ]
    },
    {
      "cell_type": "code",
      "execution_count": 12,
      "metadata": {
        "id": "RZOgKa5nzG5Y"
      },
      "outputs": [],
      "source": [
        "def rollout(model, env, max_steps=1000):\n",
        "    \"\"\"\n",
        "    Performs a single rollout.\n",
        "    Returns training data in the shape (n_steps, observation_shape)\n",
        "    and the cumulative reward.\n",
        "    \"\"\"\n",
        "    ### Create data storage\n",
        "    train_data = [[], [], [], [], []] # obs, act, reward, values, act_log_probs\n",
        "    obs = env.reset()\n",
        "\n",
        "    ep_reward = 0\n",
        "    for _ in range(max_steps):\n",
        "        logits, val = model(torch.tensor(obs[0], dtype=torch.float32,\n",
        "                                         device=DEVICE))\n",
        "        act_distribution = Categorical(logits=logits)\n",
        "        act = act_distribution.sample()\n",
        "        act_log_prob = act_distribution.log_prob(act).item()\n",
        "\n",
        "        act, val = act.item(), val.item()\n",
        "        next_obs, reward, done, _, _= env.step(act)\n",
        "\n",
        "        for i, item in enumerate((obs, act, reward, val, act_log_prob)):\n",
        "          train_data[i].append(item)\n",
        "\n",
        "        obs = next_obs\n",
        "        ep_reward += reward\n",
        "        if done:\n",
        "            break\n",
        "\n",
        "    train_data = [np.asarray(x) for x in train_data]\n",
        "\n",
        "    ### Do train data filtering\n",
        "    train_data[3] = calculate_gaes(train_data[2], train_data[3])\n",
        "\n",
        "    return train_data, ep_reward"
      ]
    },
    {
      "cell_type": "code",
      "execution_count": 13,
      "metadata": {
        "colab": {
          "base_uri": "https://localhost:8080/"
        },
        "id": "EEHYszzqzcFe",
        "outputId": "21e3554c-c993-4e67-c90d-2f2199e45e76"
      },
      "outputs": [
        {
          "name": "stderr",
          "output_type": "stream",
          "text": [
            "C:\\Users\\Chunde\\AppData\\Roaming\\Python\\Python39\\site-packages\\gym\\envs\\registration.py:555: UserWarning: \u001b[33mWARN: The environment CartPole-v0 is out of date. You should consider upgrading to version `v1`.\u001b[0m\n",
            "  logger.warn(\n"
          ]
        },
        {
          "ename": "RuntimeError",
          "evalue": "both arguments to matmul need to be at least 1D, but they are 0D and 2D",
          "output_type": "error",
          "traceback": [
            "\u001b[1;31m---------------------------------------------------------------------------\u001b[0m",
            "\u001b[1;31mRuntimeError\u001b[0m                              Traceback (most recent call last)",
            "\u001b[1;32mi:\\Git\\pytorch-seq2seq\\cartpole_ppo_follow.ipynb Cell 7\u001b[0m in \u001b[0;36m<cell line: 4>\u001b[1;34m()\u001b[0m\n\u001b[0;32m      <a href='vscode-notebook-cell:/i%3A/Git/pytorch-seq2seq/cartpole_ppo_follow.ipynb#W6sZmlsZQ%3D%3D?line=1'>2</a>\u001b[0m model \u001b[39m=\u001b[39m ActorCriticNetwork(env\u001b[39m.\u001b[39mobservation_space\u001b[39m.\u001b[39mshape[\u001b[39m0\u001b[39m], env\u001b[39m.\u001b[39maction_space\u001b[39m.\u001b[39mn)\n\u001b[0;32m      <a href='vscode-notebook-cell:/i%3A/Git/pytorch-seq2seq/cartpole_ppo_follow.ipynb#W6sZmlsZQ%3D%3D?line=2'>3</a>\u001b[0m model \u001b[39m=\u001b[39m model\u001b[39m.\u001b[39mto(DEVICE)\n\u001b[1;32m----> <a href='vscode-notebook-cell:/i%3A/Git/pytorch-seq2seq/cartpole_ppo_follow.ipynb#W6sZmlsZQ%3D%3D?line=3'>4</a>\u001b[0m train_data, reward \u001b[39m=\u001b[39m rollout(model, env)\n",
            "\u001b[1;32mi:\\Git\\pytorch-seq2seq\\cartpole_ppo_follow.ipynb Cell 7\u001b[0m in \u001b[0;36mrollout\u001b[1;34m(model, env, max_steps)\u001b[0m\n\u001b[0;32m     <a href='vscode-notebook-cell:/i%3A/Git/pytorch-seq2seq/cartpole_ppo_follow.ipynb#W6sZmlsZQ%3D%3D?line=10'>11</a>\u001b[0m ep_reward \u001b[39m=\u001b[39m \u001b[39m0\u001b[39m\n\u001b[0;32m     <a href='vscode-notebook-cell:/i%3A/Git/pytorch-seq2seq/cartpole_ppo_follow.ipynb#W6sZmlsZQ%3D%3D?line=11'>12</a>\u001b[0m \u001b[39mfor\u001b[39;00m _ \u001b[39min\u001b[39;00m \u001b[39mrange\u001b[39m(max_steps):\n\u001b[1;32m---> <a href='vscode-notebook-cell:/i%3A/Git/pytorch-seq2seq/cartpole_ppo_follow.ipynb#W6sZmlsZQ%3D%3D?line=12'>13</a>\u001b[0m     logits, val \u001b[39m=\u001b[39m model(torch\u001b[39m.\u001b[39;49mtensor(obs[\u001b[39m0\u001b[39;49m], dtype\u001b[39m=\u001b[39;49mtorch\u001b[39m.\u001b[39;49mfloat32,\n\u001b[0;32m     <a href='vscode-notebook-cell:/i%3A/Git/pytorch-seq2seq/cartpole_ppo_follow.ipynb#W6sZmlsZQ%3D%3D?line=13'>14</a>\u001b[0m                                      device\u001b[39m=\u001b[39;49mDEVICE))\n\u001b[0;32m     <a href='vscode-notebook-cell:/i%3A/Git/pytorch-seq2seq/cartpole_ppo_follow.ipynb#W6sZmlsZQ%3D%3D?line=14'>15</a>\u001b[0m     act_distribution \u001b[39m=\u001b[39m Categorical(logits\u001b[39m=\u001b[39mlogits)\n\u001b[0;32m     <a href='vscode-notebook-cell:/i%3A/Git/pytorch-seq2seq/cartpole_ppo_follow.ipynb#W6sZmlsZQ%3D%3D?line=15'>16</a>\u001b[0m     act \u001b[39m=\u001b[39m act_distribution\u001b[39m.\u001b[39msample()\n",
            "File \u001b[1;32m~\\AppData\\Roaming\\Python\\Python39\\site-packages\\torch\\nn\\modules\\module.py:1130\u001b[0m, in \u001b[0;36mModule._call_impl\u001b[1;34m(self, *input, **kwargs)\u001b[0m\n\u001b[0;32m   1126\u001b[0m \u001b[39m# If we don't have any hooks, we want to skip the rest of the logic in\u001b[39;00m\n\u001b[0;32m   1127\u001b[0m \u001b[39m# this function, and just call forward.\u001b[39;00m\n\u001b[0;32m   1128\u001b[0m \u001b[39mif\u001b[39;00m \u001b[39mnot\u001b[39;00m (\u001b[39mself\u001b[39m\u001b[39m.\u001b[39m_backward_hooks \u001b[39mor\u001b[39;00m \u001b[39mself\u001b[39m\u001b[39m.\u001b[39m_forward_hooks \u001b[39mor\u001b[39;00m \u001b[39mself\u001b[39m\u001b[39m.\u001b[39m_forward_pre_hooks \u001b[39mor\u001b[39;00m _global_backward_hooks\n\u001b[0;32m   1129\u001b[0m         \u001b[39mor\u001b[39;00m _global_forward_hooks \u001b[39mor\u001b[39;00m _global_forward_pre_hooks):\n\u001b[1;32m-> 1130\u001b[0m     \u001b[39mreturn\u001b[39;00m forward_call(\u001b[39m*\u001b[39m\u001b[39minput\u001b[39m, \u001b[39m*\u001b[39m\u001b[39m*\u001b[39mkwargs)\n\u001b[0;32m   1131\u001b[0m \u001b[39m# Do not call functions when jit is used\u001b[39;00m\n\u001b[0;32m   1132\u001b[0m full_backward_hooks, non_full_backward_hooks \u001b[39m=\u001b[39m [], []\n",
            "\u001b[1;32mi:\\Git\\pytorch-seq2seq\\cartpole_ppo_follow.ipynb Cell 7\u001b[0m in \u001b[0;36mActorCriticNetwork.forward\u001b[1;34m(self, obs)\u001b[0m\n\u001b[0;32m     <a href='vscode-notebook-cell:/i%3A/Git/pytorch-seq2seq/cartpole_ppo_follow.ipynb#W6sZmlsZQ%3D%3D?line=31'>32</a>\u001b[0m \u001b[39mdef\u001b[39;00m \u001b[39mforward\u001b[39m(\u001b[39mself\u001b[39m, obs):\n\u001b[1;32m---> <a href='vscode-notebook-cell:/i%3A/Git/pytorch-seq2seq/cartpole_ppo_follow.ipynb#W6sZmlsZQ%3D%3D?line=32'>33</a>\u001b[0m   z \u001b[39m=\u001b[39m \u001b[39mself\u001b[39;49m\u001b[39m.\u001b[39;49mshared_layers(obs)\n\u001b[0;32m     <a href='vscode-notebook-cell:/i%3A/Git/pytorch-seq2seq/cartpole_ppo_follow.ipynb#W6sZmlsZQ%3D%3D?line=33'>34</a>\u001b[0m   policy_logits \u001b[39m=\u001b[39m \u001b[39mself\u001b[39m\u001b[39m.\u001b[39mpolicy_layers(z)\n\u001b[0;32m     <a href='vscode-notebook-cell:/i%3A/Git/pytorch-seq2seq/cartpole_ppo_follow.ipynb#W6sZmlsZQ%3D%3D?line=34'>35</a>\u001b[0m   value \u001b[39m=\u001b[39m \u001b[39mself\u001b[39m\u001b[39m.\u001b[39mvalue_layers(z)\n",
            "File \u001b[1;32m~\\AppData\\Roaming\\Python\\Python39\\site-packages\\torch\\nn\\modules\\module.py:1130\u001b[0m, in \u001b[0;36mModule._call_impl\u001b[1;34m(self, *input, **kwargs)\u001b[0m\n\u001b[0;32m   1126\u001b[0m \u001b[39m# If we don't have any hooks, we want to skip the rest of the logic in\u001b[39;00m\n\u001b[0;32m   1127\u001b[0m \u001b[39m# this function, and just call forward.\u001b[39;00m\n\u001b[0;32m   1128\u001b[0m \u001b[39mif\u001b[39;00m \u001b[39mnot\u001b[39;00m (\u001b[39mself\u001b[39m\u001b[39m.\u001b[39m_backward_hooks \u001b[39mor\u001b[39;00m \u001b[39mself\u001b[39m\u001b[39m.\u001b[39m_forward_hooks \u001b[39mor\u001b[39;00m \u001b[39mself\u001b[39m\u001b[39m.\u001b[39m_forward_pre_hooks \u001b[39mor\u001b[39;00m _global_backward_hooks\n\u001b[0;32m   1129\u001b[0m         \u001b[39mor\u001b[39;00m _global_forward_hooks \u001b[39mor\u001b[39;00m _global_forward_pre_hooks):\n\u001b[1;32m-> 1130\u001b[0m     \u001b[39mreturn\u001b[39;00m forward_call(\u001b[39m*\u001b[39m\u001b[39minput\u001b[39m, \u001b[39m*\u001b[39m\u001b[39m*\u001b[39mkwargs)\n\u001b[0;32m   1131\u001b[0m \u001b[39m# Do not call functions when jit is used\u001b[39;00m\n\u001b[0;32m   1132\u001b[0m full_backward_hooks, non_full_backward_hooks \u001b[39m=\u001b[39m [], []\n",
            "File \u001b[1;32m~\\AppData\\Roaming\\Python\\Python39\\site-packages\\torch\\nn\\modules\\container.py:139\u001b[0m, in \u001b[0;36mSequential.forward\u001b[1;34m(self, input)\u001b[0m\n\u001b[0;32m    137\u001b[0m \u001b[39mdef\u001b[39;00m \u001b[39mforward\u001b[39m(\u001b[39mself\u001b[39m, \u001b[39minput\u001b[39m):\n\u001b[0;32m    138\u001b[0m     \u001b[39mfor\u001b[39;00m module \u001b[39min\u001b[39;00m \u001b[39mself\u001b[39m:\n\u001b[1;32m--> 139\u001b[0m         \u001b[39minput\u001b[39m \u001b[39m=\u001b[39m module(\u001b[39minput\u001b[39;49m)\n\u001b[0;32m    140\u001b[0m     \u001b[39mreturn\u001b[39;00m \u001b[39minput\u001b[39m\n",
            "File \u001b[1;32m~\\AppData\\Roaming\\Python\\Python39\\site-packages\\torch\\nn\\modules\\module.py:1130\u001b[0m, in \u001b[0;36mModule._call_impl\u001b[1;34m(self, *input, **kwargs)\u001b[0m\n\u001b[0;32m   1126\u001b[0m \u001b[39m# If we don't have any hooks, we want to skip the rest of the logic in\u001b[39;00m\n\u001b[0;32m   1127\u001b[0m \u001b[39m# this function, and just call forward.\u001b[39;00m\n\u001b[0;32m   1128\u001b[0m \u001b[39mif\u001b[39;00m \u001b[39mnot\u001b[39;00m (\u001b[39mself\u001b[39m\u001b[39m.\u001b[39m_backward_hooks \u001b[39mor\u001b[39;00m \u001b[39mself\u001b[39m\u001b[39m.\u001b[39m_forward_hooks \u001b[39mor\u001b[39;00m \u001b[39mself\u001b[39m\u001b[39m.\u001b[39m_forward_pre_hooks \u001b[39mor\u001b[39;00m _global_backward_hooks\n\u001b[0;32m   1129\u001b[0m         \u001b[39mor\u001b[39;00m _global_forward_hooks \u001b[39mor\u001b[39;00m _global_forward_pre_hooks):\n\u001b[1;32m-> 1130\u001b[0m     \u001b[39mreturn\u001b[39;00m forward_call(\u001b[39m*\u001b[39m\u001b[39minput\u001b[39m, \u001b[39m*\u001b[39m\u001b[39m*\u001b[39mkwargs)\n\u001b[0;32m   1131\u001b[0m \u001b[39m# Do not call functions when jit is used\u001b[39;00m\n\u001b[0;32m   1132\u001b[0m full_backward_hooks, non_full_backward_hooks \u001b[39m=\u001b[39m [], []\n",
            "File \u001b[1;32m~\\AppData\\Roaming\\Python\\Python39\\site-packages\\torch\\nn\\modules\\linear.py:114\u001b[0m, in \u001b[0;36mLinear.forward\u001b[1;34m(self, input)\u001b[0m\n\u001b[0;32m    113\u001b[0m \u001b[39mdef\u001b[39;00m \u001b[39mforward\u001b[39m(\u001b[39mself\u001b[39m, \u001b[39minput\u001b[39m: Tensor) \u001b[39m-\u001b[39m\u001b[39m>\u001b[39m Tensor:\n\u001b[1;32m--> 114\u001b[0m     \u001b[39mreturn\u001b[39;00m F\u001b[39m.\u001b[39;49mlinear(\u001b[39minput\u001b[39;49m, \u001b[39mself\u001b[39;49m\u001b[39m.\u001b[39;49mweight, \u001b[39mself\u001b[39;49m\u001b[39m.\u001b[39;49mbias)\n",
            "\u001b[1;31mRuntimeError\u001b[0m: both arguments to matmul need to be at least 1D, but they are 0D and 2D"
          ]
        }
      ],
      "source": [
        "env = gym.make('CartPole-v0')\n",
        "model = ActorCriticNetwork(env.observation_space.shape[0], env.action_space.n)\n",
        "model = model.to(DEVICE)\n",
        "train_data, reward = rollout(model, env) # Test rollout function"
      ]
    },
    {
      "cell_type": "code",
      "execution_count": null,
      "metadata": {
        "id": "J6-bk718ch2E"
      },
      "outputs": [],
      "source": [
        "# Define training params\n",
        "n_episodes = 200\n",
        "print_freq = 20\n",
        "\n",
        "ppo = PPOTrainer(\n",
        "    model,\n",
        "    policy_lr = 3e-4,\n",
        "    value_lr = 1e-3,\n",
        "    target_kl_div = 0.02,\n",
        "    max_policy_train_iters = 40,\n",
        "    value_train_iters = 40)"
      ]
    },
    {
      "cell_type": "code",
      "execution_count": null,
      "metadata": {
        "colab": {
          "base_uri": "https://localhost:8080/"
        },
        "id": "3u86EivSdH_g",
        "outputId": "b6aa258f-1b40-4219-8ef1-57438917932b"
      },
      "outputs": [
        {
          "name": "stdout",
          "output_type": "stream",
          "text": [
            "Episode 20 | Avg Reward 12.2\n",
            "Episode 40 | Avg Reward 10.1\n",
            "Episode 60 | Avg Reward 9.9\n",
            "Episode 80 | Avg Reward 10.4\n",
            "Episode 100 | Avg Reward 10.1\n",
            "Episode 120 | Avg Reward 10.2\n",
            "Episode 140 | Avg Reward 17.1\n",
            "Episode 160 | Avg Reward 86.9\n",
            "Episode 180 | Avg Reward 139.6\n",
            "Episode 200 | Avg Reward 158.6\n"
          ]
        }
      ],
      "source": [
        "# Training loop\n",
        "ep_rewards = []\n",
        "for episode_idx in range(n_episodes):\n",
        "  # Perform rollout\n",
        "  train_data, reward = rollout(model, env)\n",
        "  ep_rewards.append(reward)\n",
        "\n",
        "  # Shuffle\n",
        "  permute_idxs = np.random.permutation(len(train_data[0]))\n",
        "\n",
        "  # Policy data\n",
        "  obs = torch.tensor(train_data[0][permute_idxs],\n",
        "                     dtype=torch.float32, device=DEVICE)\n",
        "  acts = torch.tensor(train_data[1][permute_idxs],\n",
        "                      dtype=torch.int32, device=DEVICE)\n",
        "  gaes = torch.tensor(train_data[3][permute_idxs],\n",
        "                      dtype=torch.float32, device=DEVICE)\n",
        "  act_log_probs = torch.tensor(train_data[4][permute_idxs],\n",
        "                               dtype=torch.float32, device=DEVICE)\n",
        "\n",
        "  # Value data\n",
        "  returns = discount_rewards(train_data[2])[permute_idxs]\n",
        "  returns = torch.tensor(returns, dtype=torch.float32, device=DEVICE)\n",
        "\n",
        "  # Train model\n",
        "  ppo.train_policy(obs, acts, act_log_probs, gaes)\n",
        "  ppo.train_value(obs, returns)\n",
        "\n",
        "  if (episode_idx + 1) % print_freq == 0:\n",
        "    print('Episode {} | Avg Reward {:.1f}'.format(\n",
        "        episode_idx + 1, np.mean(ep_rewards[-print_freq:])))"
      ]
    },
    {
      "cell_type": "code",
      "execution_count": null,
      "metadata": {
        "id": "HaIr8-9Uzpvj"
      },
      "outputs": [],
      "source": []
    }
  ],
  "metadata": {
    "colab": {
      "provenance": []
    },
    "kernelspec": {
      "display_name": "Python 3",
      "name": "python3"
    },
    "language_info": {
      "codemirror_mode": {
        "name": "ipython",
        "version": 3
      },
      "file_extension": ".py",
      "mimetype": "text/x-python",
      "name": "python",
      "nbconvert_exporter": "python",
      "pygments_lexer": "ipython3",
      "version": "3.9.12"
    }
  },
  "nbformat": 4,
  "nbformat_minor": 0
}
