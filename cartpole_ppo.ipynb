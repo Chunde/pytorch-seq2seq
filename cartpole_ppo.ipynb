{
 "cells": [
  {
   "cell_type": "code",
   "execution_count": 3,
   "metadata": {},
   "outputs": [
    {
     "name": "stderr",
     "output_type": "stream",
     "text": [
      "C:\\Users\\Chunde\\AppData\\Roaming\\Python\\Python39\\site-packages\\tqdm\\auto.py:22: TqdmWarning: IProgress not found. Please update jupyter and ipywidgets. See https://ipywidgets.readthedocs.io/en/stable/user_install.html\n",
      "  from .autonotebook import tqdm as notebook_tqdm\n"
     ]
    },
    {
     "data": {
      "text/plain": [
       "<function seaborn.rcmod.set(*args, **kwargs)>"
      ]
     },
     "execution_count": 3,
     "metadata": {},
     "output_type": "execute_result"
    }
   ],
   "source": [
    "import gym\n",
    "import matplotlib.pyplot as plt\n",
    "import numpy as np\n",
    "import seaborn as sns\n",
    "import torch\n",
    "from torch import nn\n",
    "from torch import optim\n",
    "from torch.distributions.categorical import Categorical\n",
    "sns.set"
   ]
  },
  {
   "cell_type": "code",
   "execution_count": 4,
   "metadata": {},
   "outputs": [],
   "source": [
    "DEVICE = 'cpu'"
   ]
  },
  {
   "cell_type": "code",
   "execution_count": null,
   "metadata": {},
   "outputs": [],
   "source": []
  },
  {
   "cell_type": "code",
   "execution_count": 37,
   "metadata": {},
   "outputs": [],
   "source": [
    "# Policy and value model\n",
    "class ActorCriticNetwork(nn.Module):\n",
    "  def __init__(self, obs_space_size, action_space_size):\n",
    "    super().__init__()\n",
    "\n",
    "    self.shared_layers = nn.Sequential(\n",
    "        nn.Linear(obs_space_size, 64),\n",
    "        nn.ReLU(),\n",
    "        nn.Linear(64, 64),\n",
    "        nn.ReLU())\n",
    "    \n",
    "    self.policy_layers = nn.Sequential(\n",
    "        nn.Linear(64, 64),\n",
    "        nn.ReLU(),\n",
    "        nn.Linear(64, action_space_size))\n",
    "    \n",
    "    self.value_layers = nn.Sequential(\n",
    "        nn.Linear(64, 64),\n",
    "        nn.ReLU(),\n",
    "        nn.Linear(64, 1))\n",
    "    \n",
    "  def value(self, obs):\n",
    "    z = self.shared_layers(obs)\n",
    "    value = self.value_layers(z)\n",
    "    return value\n",
    "        \n",
    "  def policy(self, obs):\n",
    "    z = self.shared_layers(obs)\n",
    "    policy_logits = self.policy_layers(z)\n",
    "    return policy_logits\n",
    "\n",
    "  def forward(self, obs):\n",
    "    z = self.shared_layers(obs)\n",
    "    policy_logits = self.policy_layers(z)\n",
    "    value = self.value_layers(z)\n",
    "    return policy_logits, value"
   ]
  },
  {
   "cell_type": "code",
   "execution_count": 42,
   "metadata": {},
   "outputs": [],
   "source": [
    "class PPOTrainer():\n",
    "  def __init__(self,\n",
    "              actor_critic,\n",
    "              ppo_clip_val=0.2,\n",
    "              target_kl_div=0.01,\n",
    "              max_policy_train_iters=80,\n",
    "              value_train_iters=80,\n",
    "              policy_lr=3e-4,\n",
    "              value_lr=1e-2):\n",
    "    self.ac = actor_critic\n",
    "    self.ppo_clip_val = ppo_clip_val\n",
    "    self.target_kl_div = target_kl_div\n",
    "    self.max_policy_train_iters = max_policy_train_iters\n",
    "    self.value_train_iters = value_train_iters\n",
    "\n",
    "    policy_params = list(self.ac.shared_layers.parameters()) + \\\n",
    "        list(self.ac.policy_layers.parameters())\n",
    "    self.policy_optim = optim.Adam(policy_params, lr=policy_lr)\n",
    "\n",
    "    value_params = list(self.ac.shared_layers.parameters()) + \\\n",
    "        list(self.ac.value_layers.parameters())\n",
    "    self.value_optim = optim.Adam(value_params, lr=value_lr)\n",
    "\n",
    "  def train_policy(self, obs, acts, old_log_probs, gaes):\n",
    "    for _ in range(self.max_policy_train_iters):\n",
    "      self.policy_optim.zero_grad()\n",
    "\n",
    "      new_logits = self.ac.policy(obs)\n",
    "      new_logits = Categorical(logits=new_logits)\n",
    "      new_log_probs = new_logits.log_prob(acts)\n",
    "\n",
    "      policy_ratio = torch.exp(new_log_probs - old_log_probs)\n",
    "      clipped_ratio = policy_ratio.clamp(\n",
    "          1 - self.ppo_clip_val, 1 + self.ppo_clip_val)\n",
    "      \n",
    "      clipped_loss = clipped_ratio * gaes\n",
    "      full_loss = policy_ratio * gaes\n",
    "      policy_loss = -torch.min(full_loss, clipped_loss).mean()\n",
    "\n",
    "      policy_loss.backward()\n",
    "      self.policy_optim.step()\n",
    "\n",
    "      kl_div = (old_log_probs - new_log_probs).mean()\n",
    "      if kl_div >= self.target_kl_div:\n",
    "        break\n",
    "\n",
    "  def train_value(self, obs, returns):\n",
    "    for _ in range(self.value_train_iters):\n",
    "      self.value_optim.zero_grad()\n",
    "\n",
    "      values = self.ac.value(obs)\n",
    "      value_loss = (returns - values) ** 2\n",
    "      value_loss = value_loss.mean()\n",
    "\n",
    "      value_loss.backward()\n",
    "      self.value_optim.step()"
   ]
  },
  {
   "cell_type": "code",
   "execution_count": 60,
   "metadata": {},
   "outputs": [],
   "source": [
    "def rollout(model, env, max_steps=1000):\n",
    "    \"\"\"\n",
    "    Performs a single rollout.\n",
    "    Returns training data in the shape (n_steps, observation_shape)\n",
    "    and the cumulative reward.\n",
    "    \"\"\"\n",
    "    ### Create data storage\n",
    "    train_data = [[], [], [], [], []] # obs, act, reward, values, act_log_probs\n",
    "    obs = env.reset()\n",
    "\n",
    "    ep_reward = 0\n",
    "    for _ in range(max_steps):\n",
    "        logits, val = model(torch.tensor(np.array(obs[0]), dtype=torch.float32,\n",
    "                                         device=DEVICE))\n",
    "        act_distribution = Categorical(logits=logits)\n",
    "        act = act_distribution.sample()\n",
    "        act_log_prob = act_distribution.log_prob(act).item()\n",
    "\n",
    "        act, val = act.item(), val.item()\n",
    "\n",
    "        next_obs, reward, done, _ = env.step(act)\n",
    "\n",
    "        for i, item in enumerate((obs, act, reward, val, act_log_prob)):\n",
    "          train_data[i].append(item)\n",
    "\n",
    "        obs = next_obs\n",
    "        ep_reward += reward\n",
    "        if done:\n",
    "            break\n",
    "\n",
    "    train_data = [np.asarray(x) for x in train_data]\n",
    "\n",
    "    ### Do train data filtering\n",
    "    train_data[3] = calculate_gaes(train_data[2], train_data[3])\n",
    "\n",
    "    return train_data, ep_reward"
   ]
  },
  {
   "cell_type": "code",
   "execution_count": 61,
   "metadata": {},
   "outputs": [
    {
     "data": {
      "text/plain": [
       "4"
      ]
     },
     "execution_count": 61,
     "metadata": {},
     "output_type": "execute_result"
    }
   ],
   "source": [
    "len(env.reset()[0])"
   ]
  },
  {
   "cell_type": "code",
   "execution_count": 62,
   "metadata": {},
   "outputs": [
    {
     "name": "stderr",
     "output_type": "stream",
     "text": [
      "C:\\Users\\Chunde\\AppData\\Roaming\\Python\\Python39\\site-packages\\gym\\envs\\registration.py:555: UserWarning: \u001b[33mWARN: The environment CartPole-v0 is out of date. You should consider upgrading to version `v1`.\u001b[0m\n",
      "  logger.warn(\n"
     ]
    },
    {
     "ename": "ValueError",
     "evalue": "too many values to unpack (expected 4)",
     "output_type": "error",
     "traceback": [
      "\u001b[1;31m---------------------------------------------------------------------------\u001b[0m",
      "\u001b[1;31mValueError\u001b[0m                                Traceback (most recent call last)",
      "\u001b[1;32mi:\\Git\\pytorch-seq2seq\\cartpole_ppo.ipynb Cell 8\u001b[0m in \u001b[0;36m<cell line: 4>\u001b[1;34m()\u001b[0m\n\u001b[0;32m      <a href='vscode-notebook-cell:/i%3A/Git/pytorch-seq2seq/cartpole_ppo.ipynb#W4sZmlsZQ%3D%3D?line=1'>2</a>\u001b[0m model \u001b[39m=\u001b[39m ActorCriticNetwork(env\u001b[39m.\u001b[39mobservation_space\u001b[39m.\u001b[39mshape[\u001b[39m0\u001b[39m], env\u001b[39m.\u001b[39maction_space\u001b[39m.\u001b[39mn)\n\u001b[0;32m      <a href='vscode-notebook-cell:/i%3A/Git/pytorch-seq2seq/cartpole_ppo.ipynb#W4sZmlsZQ%3D%3D?line=2'>3</a>\u001b[0m model \u001b[39m=\u001b[39m model\u001b[39m.\u001b[39mto(DEVICE)\n\u001b[1;32m----> <a href='vscode-notebook-cell:/i%3A/Git/pytorch-seq2seq/cartpole_ppo.ipynb#W4sZmlsZQ%3D%3D?line=3'>4</a>\u001b[0m train_data, reward \u001b[39m=\u001b[39m rollout(model, env)\n",
      "\u001b[1;32mi:\\Git\\pytorch-seq2seq\\cartpole_ppo.ipynb Cell 8\u001b[0m in \u001b[0;36mrollout\u001b[1;34m(model, env, max_steps)\u001b[0m\n\u001b[0;32m     <a href='vscode-notebook-cell:/i%3A/Git/pytorch-seq2seq/cartpole_ppo.ipynb#W4sZmlsZQ%3D%3D?line=16'>17</a>\u001b[0m act_log_prob \u001b[39m=\u001b[39m act_distribution\u001b[39m.\u001b[39mlog_prob(act)\u001b[39m.\u001b[39mitem()\n\u001b[0;32m     <a href='vscode-notebook-cell:/i%3A/Git/pytorch-seq2seq/cartpole_ppo.ipynb#W4sZmlsZQ%3D%3D?line=18'>19</a>\u001b[0m act, val \u001b[39m=\u001b[39m act\u001b[39m.\u001b[39mitem(), val\u001b[39m.\u001b[39mitem()\n\u001b[1;32m---> <a href='vscode-notebook-cell:/i%3A/Git/pytorch-seq2seq/cartpole_ppo.ipynb#W4sZmlsZQ%3D%3D?line=20'>21</a>\u001b[0m next_obs, reward, done, _ \u001b[39m=\u001b[39m env\u001b[39m.\u001b[39mstep(act)\n\u001b[0;32m     <a href='vscode-notebook-cell:/i%3A/Git/pytorch-seq2seq/cartpole_ppo.ipynb#W4sZmlsZQ%3D%3D?line=22'>23</a>\u001b[0m \u001b[39mfor\u001b[39;00m i, item \u001b[39min\u001b[39;00m \u001b[39menumerate\u001b[39m((obs, act, reward, val, act_log_prob)):\n\u001b[0;32m     <a href='vscode-notebook-cell:/i%3A/Git/pytorch-seq2seq/cartpole_ppo.ipynb#W4sZmlsZQ%3D%3D?line=23'>24</a>\u001b[0m   train_data[i]\u001b[39m.\u001b[39mappend(item)\n",
      "\u001b[1;31mValueError\u001b[0m: too many values to unpack (expected 4)"
     ]
    }
   ],
   "source": [
    "env = gym.make('CartPole-v0')\n",
    "model = ActorCriticNetwork(env.observation_space.shape[0], env.action_space.n)\n",
    "model = model.to(DEVICE)\n",
    "train_data, reward = rollout(model, env) # Test rollout function"
   ]
  },
  {
   "cell_type": "code",
   "execution_count": 46,
   "metadata": {},
   "outputs": [],
   "source": [
    "# Define training params\n",
    "n_episodes = 200\n",
    "print_freq = 20\n",
    "\n",
    "ppo = PPOTrainer(\n",
    "    model,\n",
    "    policy_lr = 3e-4,\n",
    "    value_lr = 1e-3,\n",
    "    target_kl_div = 0.02,\n",
    "    max_policy_train_iters = 40,\n",
    "    value_train_iters = 40)"
   ]
  },
  {
   "cell_type": "code",
   "execution_count": 15,
   "metadata": {},
   "outputs": [
    {
     "ename": "ValueError",
     "evalue": "expected sequence of length 4 at dim 2 (got 0)",
     "output_type": "error",
     "traceback": [
      "\u001b[1;31m---------------------------------------------------------------------------\u001b[0m",
      "\u001b[1;31mValueError\u001b[0m                                Traceback (most recent call last)",
      "\u001b[1;32mi:\\Git\\pytorch-seq2seq\\cartpole_ppo.ipynb Cell 7\u001b[0m in \u001b[0;36m<cell line: 2>\u001b[1;34m()\u001b[0m\n\u001b[0;32m      <a href='vscode-notebook-cell:/i%3A/Git/pytorch-seq2seq/cartpole_ppo.ipynb#W6sZmlsZQ%3D%3D?line=0'>1</a>\u001b[0m ep_rewards \u001b[39m=\u001b[39m []\n\u001b[0;32m      <a href='vscode-notebook-cell:/i%3A/Git/pytorch-seq2seq/cartpole_ppo.ipynb#W6sZmlsZQ%3D%3D?line=1'>2</a>\u001b[0m \u001b[39mfor\u001b[39;00m episode_idx \u001b[39min\u001b[39;00m \u001b[39mrange\u001b[39m(n_episodes):\n\u001b[1;32m----> <a href='vscode-notebook-cell:/i%3A/Git/pytorch-seq2seq/cartpole_ppo.ipynb#W6sZmlsZQ%3D%3D?line=2'>3</a>\u001b[0m     train_data, reward \u001b[39m=\u001b[39m rollout(model, env)\n\u001b[0;32m      <a href='vscode-notebook-cell:/i%3A/Git/pytorch-seq2seq/cartpole_ppo.ipynb#W6sZmlsZQ%3D%3D?line=3'>4</a>\u001b[0m     ep_rewards\u001b[39m.\u001b[39mappend(reward)\n\u001b[0;32m      <a href='vscode-notebook-cell:/i%3A/Git/pytorch-seq2seq/cartpole_ppo.ipynb#W6sZmlsZQ%3D%3D?line=6'>7</a>\u001b[0m     \u001b[39mif\u001b[39;00m(episode_idx \u001b[39m+\u001b[39m \u001b[39m1\u001b[39m) \u001b[39m%\u001b[39m print_freq \u001b[39m==\u001b[39m \u001b[39m0\u001b[39m:\n",
      "\u001b[1;32mi:\\Git\\pytorch-seq2seq\\cartpole_ppo.ipynb Cell 7\u001b[0m in \u001b[0;36mrollout\u001b[1;34m(model, env, max_steps)\u001b[0m\n\u001b[0;32m      <a href='vscode-notebook-cell:/i%3A/Git/pytorch-seq2seq/cartpole_ppo.ipynb#W6sZmlsZQ%3D%3D?line=4'>5</a>\u001b[0m ep_reward \u001b[39m=\u001b[39m \u001b[39m0\u001b[39m\n\u001b[0;32m      <a href='vscode-notebook-cell:/i%3A/Git/pytorch-seq2seq/cartpole_ppo.ipynb#W6sZmlsZQ%3D%3D?line=6'>7</a>\u001b[0m \u001b[39mfor\u001b[39;00m _ \u001b[39min\u001b[39;00m \u001b[39mrange\u001b[39m(max_steps):\n\u001b[1;32m----> <a href='vscode-notebook-cell:/i%3A/Git/pytorch-seq2seq/cartpole_ppo.ipynb#W6sZmlsZQ%3D%3D?line=7'>8</a>\u001b[0m     logits, val \u001b[39m=\u001b[39m model(torch\u001b[39m.\u001b[39;49mtensor([obs], dtype\u001b[39m=\u001b[39;49mtorch\u001b[39m.\u001b[39;49mfloat32, device\u001b[39m=\u001b[39;49mDEVICE))\n\u001b[0;32m      <a href='vscode-notebook-cell:/i%3A/Git/pytorch-seq2seq/cartpole_ppo.ipynb#W6sZmlsZQ%3D%3D?line=8'>9</a>\u001b[0m     act_distribution \u001b[39m=\u001b[39m Categorical(logits\u001b[39m=\u001b[39mlogits)\n\u001b[0;32m     <a href='vscode-notebook-cell:/i%3A/Git/pytorch-seq2seq/cartpole_ppo.ipynb#W6sZmlsZQ%3D%3D?line=9'>10</a>\u001b[0m     act \u001b[39m=\u001b[39m act_distribution\u001b[39m.\u001b[39msample()\n",
      "\u001b[1;31mValueError\u001b[0m: expected sequence of length 4 at dim 2 (got 0)"
     ]
    }
   ],
   "source": [
    "ep_rewards = []\n",
    "for episode_idx in range(n_episodes):\n",
    "    train_data, reward = rollout(model, env)\n",
    "    ep_rewards.append(reward)   \n",
    "    \n",
    "    if(episode_idx + 1) % print_freq == 0:\n",
    "        print('Episode {} | Avg Reward {:.1f}'.format(episode_idx + 1, np.mean(ep_rewards[-print_freq:])))"
   ]
  },
  {
   "cell_type": "code",
   "execution_count": 47,
   "metadata": {},
   "outputs": [
    {
     "ename": "ValueError",
     "evalue": "expected sequence of length 4 at dim 2 (got 0)",
     "output_type": "error",
     "traceback": [
      "\u001b[1;31m---------------------------------------------------------------------------\u001b[0m",
      "\u001b[1;31mValueError\u001b[0m                                Traceback (most recent call last)",
      "\u001b[1;32mi:\\Git\\pytorch-seq2seq\\cartpole_ppo.ipynb Cell 10\u001b[0m in \u001b[0;36m<cell line: 3>\u001b[1;34m()\u001b[0m\n\u001b[0;32m      <a href='vscode-notebook-cell:/i%3A/Git/pytorch-seq2seq/cartpole_ppo.ipynb#X10sZmlsZQ%3D%3D?line=1'>2</a>\u001b[0m ep_rewards \u001b[39m=\u001b[39m []\n\u001b[0;32m      <a href='vscode-notebook-cell:/i%3A/Git/pytorch-seq2seq/cartpole_ppo.ipynb#X10sZmlsZQ%3D%3D?line=2'>3</a>\u001b[0m \u001b[39mfor\u001b[39;00m episode_idx \u001b[39min\u001b[39;00m \u001b[39mrange\u001b[39m(n_episodes):\n\u001b[0;32m      <a href='vscode-notebook-cell:/i%3A/Git/pytorch-seq2seq/cartpole_ppo.ipynb#X10sZmlsZQ%3D%3D?line=3'>4</a>\u001b[0m   \u001b[39m# Perform rollout\u001b[39;00m\n\u001b[1;32m----> <a href='vscode-notebook-cell:/i%3A/Git/pytorch-seq2seq/cartpole_ppo.ipynb#X10sZmlsZQ%3D%3D?line=4'>5</a>\u001b[0m   train_data, reward \u001b[39m=\u001b[39m rollout(model, env)\n\u001b[0;32m      <a href='vscode-notebook-cell:/i%3A/Git/pytorch-seq2seq/cartpole_ppo.ipynb#X10sZmlsZQ%3D%3D?line=5'>6</a>\u001b[0m   ep_rewards\u001b[39m.\u001b[39mappend(reward)\n\u001b[0;32m      <a href='vscode-notebook-cell:/i%3A/Git/pytorch-seq2seq/cartpole_ppo.ipynb#X10sZmlsZQ%3D%3D?line=7'>8</a>\u001b[0m   \u001b[39m# Shuffle\u001b[39;00m\n",
      "\u001b[1;32mi:\\Git\\pytorch-seq2seq\\cartpole_ppo.ipynb Cell 10\u001b[0m in \u001b[0;36mrollout\u001b[1;34m(model, env, max_steps)\u001b[0m\n\u001b[0;32m     <a href='vscode-notebook-cell:/i%3A/Git/pytorch-seq2seq/cartpole_ppo.ipynb#X10sZmlsZQ%3D%3D?line=10'>11</a>\u001b[0m ep_reward \u001b[39m=\u001b[39m \u001b[39m0\u001b[39m\n\u001b[0;32m     <a href='vscode-notebook-cell:/i%3A/Git/pytorch-seq2seq/cartpole_ppo.ipynb#X10sZmlsZQ%3D%3D?line=11'>12</a>\u001b[0m \u001b[39mfor\u001b[39;00m _ \u001b[39min\u001b[39;00m \u001b[39mrange\u001b[39m(max_steps):\n\u001b[1;32m---> <a href='vscode-notebook-cell:/i%3A/Git/pytorch-seq2seq/cartpole_ppo.ipynb#X10sZmlsZQ%3D%3D?line=12'>13</a>\u001b[0m     logits, val \u001b[39m=\u001b[39m model(torch\u001b[39m.\u001b[39;49mtensor([obs], dtype\u001b[39m=\u001b[39;49mtorch\u001b[39m.\u001b[39;49mfloat32,\n\u001b[0;32m     <a href='vscode-notebook-cell:/i%3A/Git/pytorch-seq2seq/cartpole_ppo.ipynb#X10sZmlsZQ%3D%3D?line=13'>14</a>\u001b[0m                                      device\u001b[39m=\u001b[39;49mDEVICE))\n\u001b[0;32m     <a href='vscode-notebook-cell:/i%3A/Git/pytorch-seq2seq/cartpole_ppo.ipynb#X10sZmlsZQ%3D%3D?line=14'>15</a>\u001b[0m     act_distribution \u001b[39m=\u001b[39m Categorical(logits\u001b[39m=\u001b[39mlogits)\n\u001b[0;32m     <a href='vscode-notebook-cell:/i%3A/Git/pytorch-seq2seq/cartpole_ppo.ipynb#X10sZmlsZQ%3D%3D?line=15'>16</a>\u001b[0m     act \u001b[39m=\u001b[39m act_distribution\u001b[39m.\u001b[39msample()\n",
      "\u001b[1;31mValueError\u001b[0m: expected sequence of length 4 at dim 2 (got 0)"
     ]
    }
   ],
   "source": [
    "# Training loop\n",
    "ep_rewards = []\n",
    "for episode_idx in range(n_episodes):\n",
    "  # Perform rollout\n",
    "  train_data, reward = rollout(model, env)\n",
    "  ep_rewards.append(reward)\n",
    "\n",
    "  # Shuffle\n",
    "  permute_idxs = np.random.permutation(len(train_data[0]))\n",
    "\n",
    "  # Policy data\n",
    "  obs = torch.tensor(train_data[0][permute_idxs],\n",
    "                     dtype=torch.float32, device=DEVICE)\n",
    "  acts = torch.tensor(train_data[1][permute_idxs],\n",
    "                      dtype=torch.int32, device=DEVICE)\n",
    "  gaes = torch.tensor(train_data[3][permute_idxs],\n",
    "                      dtype=torch.float32, device=DEVICE)\n",
    "  act_log_probs = torch.tensor(train_data[4][permute_idxs],\n",
    "                               dtype=torch.float32, device=DEVICE)\n",
    "\n",
    "  # Value data\n",
    "  returns = discount_rewards(train_data[2])[permute_idxs]\n",
    "  returns = torch.tensor(returns, dtype=torch.float32, device=DEVICE)\n",
    "\n",
    "  # Train model\n",
    "  ppo.train_policy(obs, acts, act_log_probs, gaes)\n",
    "  ppo.train_value(obs, returns)\n",
    "\n",
    "  if (episode_idx + 1) % print_freq == 0:\n",
    "    print('Episode {} | Avg Reward {:.1f}'.format(\n",
    "        episode_idx + 1, np.mean(ep_rewards[-print_freq:])))"
   ]
  },
  {
   "cell_type": "code",
   "execution_count": null,
   "metadata": {},
   "outputs": [],
   "source": []
  }
 ],
 "metadata": {
  "kernelspec": {
   "display_name": "Python 3",
   "language": "python",
   "name": "python3"
  },
  "language_info": {
   "codemirror_mode": {
    "name": "ipython",
    "version": 3
   },
   "file_extension": ".py",
   "mimetype": "text/x-python",
   "name": "python",
   "nbconvert_exporter": "python",
   "pygments_lexer": "ipython3",
   "version": "3.9.12"
  },
  "orig_nbformat": 4
 },
 "nbformat": 4,
 "nbformat_minor": 2
}
