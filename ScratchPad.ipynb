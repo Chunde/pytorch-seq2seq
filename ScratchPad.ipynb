{
 "cells": [
  {
   "attachments": {},
   "cell_type": "markdown",
   "metadata": {},
   "source": [
    "# 证明以下等式\n",
    "  $\\sum_{i=1}^{N}i^3 = \\left(\\sum_{i=1}^{N}i\\right)^2$ \n",
    "  * 例子：$1^3+2^3 + 3^3=(1+2+3)^2=36$"
   ]
  },
  {
   "cell_type": "code",
   "execution_count": 6,
   "metadata": {},
   "outputs": [
    {
     "name": "stdout",
     "output_type": "stream",
     "text": [
      "235812216025 235812216025\n"
     ]
    }
   ],
   "source": [
    "N=985\n",
    "sum1 = sum(i**3 for i in range(1, N+1))\n",
    "sum2 = sum(i for i in range(1, N+1))\n",
    "sum2 = sum2**2\n",
    "print(sum1, sum2)"
   ]
  },
  {
   "attachments": {},
   "cell_type": "markdown",
   "metadata": {},
   "source": [
    "## 直接证明\n",
    "$$\n",
    "\\begin{align}\n",
    "\\left(\\sum_{i=1}^{N + 1}i\\right)^2 &= \\left[\\left(\\sum_{i=1}^{N}i\\right) + (N+1)\\right]^2 \\\\\n",
    "\n",
    "&=\\left(\\sum_{i=1}^{N}i\\right)^2 + 2\\left(\\sum_{i=1}^{N}i\\right)(N+1) + \\left(N+1\\right)^2\n",
    "\\end{align}\n",
    "$$\n",
    "\n",
    "* 知道以下等式：\n",
    "  $$\n",
    "  \\left(\\sum_{i=1}^{N}i\\right) = \\frac{(N+1)N}{2}\n",
    "  $$\n",
    "\n",
    "*将以上等式代入其前面一个关系可以得到\n",
    "$$\n",
    "\\begin{align}\n",
    "\\left(\\sum_{i=1}^{N + 1}i\\right)^2 &= \\left[\\left(\\sum_{i=1}^{N}i\\right) + (N+1)\\right]^2 \\\\\n",
    "&=\\left(\\sum_{i=1}^{N}i\\right)^2 + 2\\left(\\sum_{i=1}^{N}i\\right)(N+1) + \\left(N+1\\right)^2\\\\\n",
    "&=\\left(\\sum_{i=1}^{N}i\\right)^2 + 2\\times\\frac{(N+1)N}{2}(N+1) + \\left(N+1\\right)^2\\\\\n",
    "&=\\left(\\sum_{i=1}^{N}i\\right)^2 + (N+1)^2N + \\left(N+1\\right)^2\\\\\n",
    "&=\\left(\\sum_{i=1}^{N}i\\right)^2 + \\left(N+1\\right)^3\\\\\n",
    "\\end{align}\n",
    "$$"
   ]
  },
  {
   "attachments": {},
   "cell_type": "markdown",
   "metadata": {},
   "source": [
    "* 有了上面的关系，我们就可以知道等式（5）的第一项也可以按同样的逻辑展开，证明就可以完成了：\n",
    "$$\n",
    "\\begin{align}\n",
    "\\left(\\sum_{i=1}^{N + 1}i\\right)^2 &= \\left[\\left(\\sum_{i=1}^{N}i\\right) + (N+1)\\right]^2 \\\\\n",
    "&=\\left(\\sum_{i=1}^{N}i\\right)^2 + \\left(N+1\\right)^3\\\\\n",
    "&=\\left(\\sum_{i=1}^{N - 1}i\\right)^2 + N^3 + \\left(N+1\\right)^3\\\\\n",
    "&=... \\\\\n",
    "&=1^3 + 2^3  + \\dots +  N^3 + \\left(N+1\\right)^3\\\\\n",
    "\\end{align}\n",
    "$$\n",
    "\n",
    "* 证明完毕"
   ]
  },
  {
   "attachments": {},
   "cell_type": "markdown",
   "metadata": {},
   "source": []
  }
 ],
 "metadata": {
  "kernelspec": {
   "display_name": "Python 3",
   "language": "python",
   "name": "python3"
  },
  "language_info": {
   "codemirror_mode": {
    "name": "ipython",
    "version": 3
   },
   "file_extension": ".py",
   "mimetype": "text/x-python",
   "name": "python",
   "nbconvert_exporter": "python",
   "pygments_lexer": "ipython3",
   "version": "3.9.12"
  },
  "orig_nbformat": 4
 },
 "nbformat": 4,
 "nbformat_minor": 2
}
